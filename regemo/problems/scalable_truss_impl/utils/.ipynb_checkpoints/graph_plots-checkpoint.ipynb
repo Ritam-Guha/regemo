{
 "cells": [
  {
   "cell_type": "code",
   "execution_count": 96,
   "id": "503ee75d-ef17-4966-a272-5010924a1aff",
   "metadata": {},
   "outputs": [
    {
     "name": "stdout",
     "output_type": "stream",
     "text": [
      "const_var_list\n",
      "[]\n",
      "DiGraph with 10 nodes and 18 edges\n",
      "-0.72 0.48\n",
      "-0.91 0.71\n",
      "-0.5 0.44\n",
      "-0.95 0.41\n",
      "0.98 0.48\n",
      "-1.19 0.71\n",
      "-1.14 0.69\n",
      "-1.12 0.8\n",
      "-0.99 0.56\n",
      "-1.01 1.0\n",
      "-1.05 0.63\n",
      "-0.98 0.59\n",
      "-1.1 0.58\n",
      "-1.1 0.67\n",
      "-0.73 0.51\n",
      "-2.0 1.1\n",
      "3.0 0.7019944052983856\n",
      "-1.14 0.7859361716650585\n"
     ]
    },
    {
     "data": {
      "text/html": [
       "\n",
       "        <iframe\n",
       "            width=\"900\"\n",
       "            height=\"900\"\n",
       "            src=\"example.html\"\n",
       "            frameborder=\"0\"\n",
       "            allowfullscreen\n",
       "            \n",
       "        ></iframe>\n",
       "        "
      ],
      "text/plain": [
       "<IPython.lib.display.IFrame at 0x7f42dafbedf0>"
      ]
     },
     "execution_count": 96,
     "metadata": {},
     "output_type": "execute_result"
    }
   ],
   "source": [
    "import numpy as np\n",
    "from pyvis.network import Network\n",
    "import networkx as nx\n",
    "import matplotlib.pyplot as plt\n",
    "import h5py\n",
    "import os\n",
    "import sys\n",
    "sys.path.append('../')\n",
    "from innovization.graph_matrix_innovization import GraphMatrixInnovization\n",
    "import matplotlib.pyplot as plt\n",
    "\n",
    "%matplotlib widget\n",
    "# G = nx.DiGraph()\n",
    "# G.add_nodes_from([1, 2])\n",
    "# G.add_edge(1, 2)\n",
    "# net = Network(notebook=True)\n",
    "# net.from_nx(G)\n",
    "# nx.draw(G, with_labels=True, font_weight='bold')\n",
    "# # net.show(\"example.html\")\n",
    "# # print(\"complete\")\n",
    "# plt.show()\n",
    "# hf = h5py.File('/home/abhiroop/Insync/ghoshab1@msu.edu/Google Drive/Abhiroop/Data/MSU/Research/DARPA/Code/CP3/moea_kdo/stepped_beam/results/17seg_80pop_600gen_baseline_20220207_020341/run1_seed184716924/optim_state.hdf5', 'r')\n",
    "\n",
    "hf = h5py.File('/home/abhiroop/Insync/ghoshab1@msu.edu/Google Drive/Abhiroop/Data/MSU/Research/DARPA/Code/CP3/moea_kdo/stepped_beam/results/5seg_30pop_200gen_baseline_20220207_124744/run1_seed184716924/optim_state.hdf5', 'r')\n",
    "\n",
    "gen_arr = []\n",
    "for key in hf.keys():\n",
    "    gen_no = int(key[3:])\n",
    "    gen_arr.append(gen_no)\n",
    "gen_arr.sort()\n",
    "gen_arr = np.array(gen_arr)\n",
    "\n",
    "latest_innov_gen_key = f\"gen{hf.attrs['innov_info_latest_gen']}\"\n",
    "if hf.attrs['current_gen'] != gen_arr[-1]:\n",
    "    print(\"Mismatch in gen numbering\")\n",
    "plaw_err_max = np.array(hf[latest_innov_gen_key]['power_law_error_max'])\n",
    "innov = GraphMatrixInnovization(min_ineq_rule_significance=0.8, corr_min_ineq=0.,\n",
    "                                max_power_law_error_ratio=0.05,\n",
    "                                corr_min_power=0.,\n",
    "                                # power_law_error_max=hf.attrs['power_law_error_max'])\n",
    "                                power_law_error_max=plaw_err_max)\n",
    "\n",
    "X = np.array(hf[f'gen{gen_arr[-1]}']['X'])\n",
    "F = np.array(hf[f'gen{gen_arr[-1]}']['F'])\n",
    "\n",
    "var_groups, var_group_score, rel_type, corr = innov.learn_inequality_rules(X)\n",
    "b_arr, c_arr, power_law_error_arr, power_law_error_normalized,\\\n",
    "corr, const_var_list, mean_x = innov.learn_power_laws(X, hf.attrs['xl'], hf.attrs['xu'])\n",
    "\n",
    "G = nx.DiGraph()\n",
    "node_list = np.unique(var_groups)\n",
    "for node in node_list:\n",
    "    # print(node)\n",
    "    G.add_node(int(node))\n",
    "for i, g in enumerate(var_groups):\n",
    "    if g[0] != g[1] and var_group_score[i] > 0.9:\n",
    "        G.add_edge(int(g[0]), int(g[1]))\n",
    "    # print(g)\n",
    "print(G)\n",
    "# nx.draw(G, with_labels=True, font_weight='bold')\n",
    "# for i in range(len(var_groups)):\n",
    "#     grp = var_groups[i]\n",
    "\n",
    "# G = nx.DiGraph()\n",
    "# G.add_node(1)\n",
    "# G.add_node(2)\n",
    "# G.add_edge(1, 2)\n",
    "net = Network(height=900, width=900, notebook=True)\n",
    "# net.barnes_hut()\n",
    "net.from_nx(G)\n",
    "# for node in node_list:\n",
    "#     # print(node)\n",
    "#     print(type(node))\n",
    "#     net.add_node(node)\n",
    "# for i, g in enumerate(var_groups):\n",
    "#     if g[0] != g[1] and var_group_score[i] > 0.8:\n",
    "        # net.add_edge(g[0], g[1])\n",
    "neighbor_map = net.get_adj_list()\n",
    "\n",
    "# add neighbor data to node hover data\n",
    "for node in net.nodes:\n",
    "    node['title'] = f'Neighbors of {node[\"id\"]}:<br>'\n",
    "    for neighbor in neighbor_map[node['id']]:\n",
    "        node['title'] += str(neighbor) + '<br>'\n",
    "    node['value'] = len(neighbor_map[node['id']])\n",
    "\n",
    "bc = np.array([\n",
    "[-0.72, 0.48],\n",
    "[-0.91, 0.71],\n",
    "[-0.5, 0.44],\n",
    "[-0.95, 0.41],\n",
    "[0.98, 0.48],\n",
    "[-1.19, 0.71],\n",
    "[-1.14, 0.69],\n",
    "[-1.12, 0.8],\n",
    "[-0.99, 0.56],\n",
    "[-1.01, 1],\n",
    "[-1.05, 0.63],\n",
    "[-0.98, 0.59],\n",
    "[-1.1, 0.58],\n",
    "[-1.1, 0.67],\n",
    "[-0.73, 0.51],\n",
    "[-2, 1.1],\n",
    "[3, 0.7019944052983856],\n",
    "[-1.14, 0.7859361716650585],\n",
    "])\n",
    "for i, edge in enumerate(net.edges):\n",
    "    from_node = edge['from']\n",
    "    to_node = edge['to']\n",
    "    # b, c = b_arr[from_node, to_node], c_arr[from_node, to_node]\n",
    "    b, c = bc[i, 0], bc[i, 1]\n",
    "    print(b, c)\n",
    "    if -1.02 <= b <= -0.98:\n",
    "        if 0.98 <= c <= 1.02:\n",
    "            edge['label'] = '≈'\n",
    "        else:\n",
    "            edge['label'] = '∝'\n",
    "    elif 0.98 <= b <= 1.02:\n",
    "        edge['label'] = '1/∝'\n",
    "    elif -2.02 <= b <= -1.98:\n",
    "        edge['label'] = '∝(^2)'\n",
    "    elif 1.98 <= b <= 2.02:\n",
    "        edge['label'] = '1/∝(^2)'\n",
    "    elif -3.02 <= b <= -2.98:\n",
    "        edge['label'] = '∝(^3)'\n",
    "    elif 2.98 <= b <= 3.02:\n",
    "        edge['label'] = '1/∝(^3)'\n",
    "    elif -0.52 <= b <= -0.48:\n",
    "        edge['label'] = '√'\n",
    "    \n",
    "\n",
    "options = '''var options = {\n",
    "  \"nodes\": {\n",
    "    \"font\": {\n",
    "      \"size\": 26\n",
    "    }\n",
    "  },\n",
    "  \"edges\": {\n",
    "    \"font\": {\n",
    "      \"size\": 26\n",
    "    },\n",
    "    \"arrows\": {\n",
    "      \"to\": {\n",
    "        \"enabled\": true,\n",
    "        \"scaleFactor\": 0.8\n",
    "      }\n",
    "    },\n",
    "    \"color\": {\n",
    "      \"inherit\": true\n",
    "    },\n",
    "    \"smooth\": false\n",
    "  },\n",
    "  \"interaction\": {\n",
    "    \"multiselect\": true,\n",
    "    \"navigationButtons\": true\n",
    "  },\n",
    "  \"physics\": {\n",
    "    \"enabled\": false,\n",
    "    \"minVelocity\": 0.75\n",
    "  }\n",
    "}'''\n",
    "net.set_options(options)\n",
    "# net.toggle_physics(False)\n",
    "# net.show_buttons()\n",
    "net.show(\"example.html\")\n",
    "# hf.close()"
   ]
  },
  {
   "cell_type": "code",
   "execution_count": 65,
   "id": "475f37c2-bd0e-47a8-b716-5a92c633d053",
   "metadata": {},
   "outputs": [
    {
     "data": {
      "text/plain": [
       "array([0, 1, 2, 3, 4, 5, 6, 7, 8, 9])"
      ]
     },
     "execution_count": 65,
     "metadata": {},
     "output_type": "execute_result"
    }
   ],
   "source": [
    "np.unique(var_groups)"
   ]
  },
  {
   "cell_type": "code",
   "execution_count": 14,
   "id": "188e92a4-9914-41ba-b058-aa2809a92bee",
   "metadata": {},
   "outputs": [
    {
     "data": {
      "text/plain": [
       "'1, 3, 6, 7, 8'"
      ]
     },
     "execution_count": 14,
     "metadata": {},
     "output_type": "execute_result"
    }
   ],
   "source": [
    "str(neighbor_map[node['id']])[1:-1]"
   ]
  },
  {
   "cell_type": "code",
   "execution_count": 78,
   "id": "b627d418-279c-412d-94c3-f9b36b196a1f",
   "metadata": {},
   "outputs": [
    {
     "data": {
      "text/plain": [
       "0.016315705856527474"
      ]
     },
     "execution_count": 78,
     "metadata": {},
     "output_type": "execute_result"
    }
   ],
   "source": [
    "np.max(power_law_error_arr)"
   ]
  },
  {
   "cell_type": "code",
   "execution_count": null,
   "id": "150655b7-8d0c-433b-9c51-81c019d2940a",
   "metadata": {},
   "outputs": [],
   "source": []
  }
 ],
 "metadata": {
  "kernelspec": {
   "display_name": "Python [conda env:moea_kdo] *",
   "language": "python",
   "name": "conda-env-moea_kdo-py"
  },
  "language_info": {
   "codemirror_mode": {
    "name": "ipython",
    "version": 3
   },
   "file_extension": ".py",
   "mimetype": "text/x-python",
   "name": "python",
   "nbconvert_exporter": "python",
   "pygments_lexer": "ipython3",
   "version": "3.8.12"
  }
 },
 "nbformat": 4,
 "nbformat_minor": 5
}
